{
  "nbformat": 4,
  "nbformat_minor": 0,
  "metadata": {
    "colab": {
      "name": "density variation.ipynb",
      "provenance": [],
      "authorship_tag": "ABX9TyP73ayiRWBJM5RqNr9Cg+xz",
      "include_colab_link": true
    },
    "kernelspec": {
      "name": "python3",
      "display_name": "Python 3"
    },
    "language_info": {
      "name": "python"
    }
  },
  "cells": [
    {
      "cell_type": "markdown",
      "metadata": {
        "id": "view-in-github",
        "colab_type": "text"
      },
      "source": [
        "<a href=\"https://colab.research.google.com/github/maheshmahajan133/mahesh-mahajan-Branch1/blob/31stmay-branch/density_variation.ipynb\" target=\"_parent\"><img src=\"https://colab.research.google.com/assets/colab-badge.svg\" alt=\"Open In Colab\"/></a>"
      ]
    },
    {
      "cell_type": "code",
      "metadata": {
        "colab": {
          "base_uri": "https://localhost:8080/"
        },
        "id": "GEFBeb3xknNj",
        "outputId": "09c02162-246e-4d20-a107-79be732a709a"
      },
      "source": [
        "import math\n",
        "c1=1.9937718430\n",
        "c2=1.0985211604\n",
        "c3=-0.5094492996\n",
        "c4=-1.7619124270\n",
        "c5=-44.9005480267\n",
        "c6=-723692.2618632\n",
        "temp3=input(\"Enter the Temperature of solution(in number format):\")\n",
        "t=float(temp3)\n",
        "thetha3=(t+273.15)/647.3\n",
        "tau=1-thetha3\n",
        "\n",
        "conc3=input(\" Enter the Concentration of the solution:\")\n",
        "x=float(conc3)\n",
        "y=(x/(1-x))\n",
        "\n",
        "critical_density_of_water=322   # kg/m3\n",
        "density_of_water=round(critical_density_of_water*(1+c1*tau**(1/3)+c2*tau**(2/3)+c3*tau**(5/3)+c4*tau**(16/3)+c5*tau**(43/3)+c6*tau**(110/3)),4)\n",
        "print (\"The density of the water at given temperature is {}\" .format(density_of_water))\n",
        "\n",
        "f1=1.0\n",
        "f2=0.540966\n",
        "f3=-0.303792\n",
        "f4=0.100791\n",
        "density_of_solution=round(density_of_water*(f1+f2*y**2+f3*y**3+f4*y**4),4)\n",
        "\n",
        "print (\"the density of the LiCl soltution at {} celcius, {} concentration is {} Kg/M3 \".format(t,x,density_of_solution))\n"
      ],
      "execution_count": 1,
      "outputs": [
        {
          "output_type": "stream",
          "text": [
            "Enter the Temperature of solution(in number format):25\n",
            " Enter the Concentration of the solution:0.4\n",
            "The density of the water at given temperature is 997.1548\n",
            "the density of the LiCl soltution at 25.0 celcius, 0.4 concentration is 1166.9964 Kg/M3 \n"
          ],
          "name": "stdout"
        }
      ]
    }
  ]
}