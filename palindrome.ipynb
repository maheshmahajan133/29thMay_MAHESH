{
  "nbformat": 4,
  "nbformat_minor": 0,
  "metadata": {
    "colab": {
      "name": "palindrome.ipynb",
      "provenance": [],
      "authorship_tag": "ABX9TyP/GWdeoSMOPxLBVeIfCPP2",
      "include_colab_link": true
    },
    "kernelspec": {
      "name": "python3",
      "display_name": "Python 3"
    },
    "language_info": {
      "name": "python"
    }
  },
  "cells": [
    {
      "cell_type": "markdown",
      "metadata": {
        "id": "view-in-github",
        "colab_type": "text"
      },
      "source": [
        "<a href=\"https://colab.research.google.com/github/maheshmahajan133/29thMay_MAHESH/blob/maheshbranch1/palindrome.ipynb\" target=\"_parent\"><img src=\"https://colab.research.google.com/assets/colab-badge.svg\" alt=\"Open In Colab\"/></a>"
      ]
    },
    {
      "cell_type": "code",
      "metadata": {
        "colab": {
          "base_uri": "https://localhost:8080/"
        },
        "id": "tC0CC8n3J7hg",
        "outputId": "4bf7f39d-fab5-4fd9-9539-a206eb5bc614"
      },
      "source": [
        "def palindrome(s):\n",
        "  m=s.split()\n",
        "  n=''.join(m)\n",
        "  p=n.upper()\n",
        "  return p==p[::-1]\n",
        "palindrome('Rar ar')"
      ],
      "execution_count": 7,
      "outputs": [
        {
          "output_type": "execute_result",
          "data": {
            "text/plain": [
              "True"
            ]
          },
          "metadata": {
            "tags": []
          },
          "execution_count": 7
        }
      ]
    }
  ]
}