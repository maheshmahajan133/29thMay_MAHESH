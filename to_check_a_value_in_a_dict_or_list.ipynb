{
  "nbformat": 4,
  "nbformat_minor": 0,
  "metadata": {
    "colab": {
      "name": "to check a value in a dict or list",
      "provenance": [],
      "authorship_tag": "ABX9TyO+FCSqqEY/3RPNg/A92f/E",
      "include_colab_link": true
    },
    "kernelspec": {
      "name": "python3",
      "display_name": "Python 3"
    },
    "language_info": {
      "name": "python"
    }
  },
  "cells": [
    {
      "cell_type": "markdown",
      "metadata": {
        "id": "view-in-github",
        "colab_type": "text"
      },
      "source": [
        "<a href=\"https://colab.research.google.com/github/maheshmahajan133/mahesh-mahajan-Branch1/blob/31stmay-branch/to_check_a_value_in_a_dict_or_list.ipynb\" target=\"_parent\"><img src=\"https://colab.research.google.com/assets/colab-badge.svg\" alt=\"Open In Colab\"/></a>"
      ]
    },
    {
      "cell_type": "code",
      "metadata": {
        "colab": {
          "base_uri": "https://localhost:8080/"
        },
        "id": "VkMFJ8R4hDei",
        "outputId": "88176d43-550e-443b-9b59-3bb43046a0a8"
      },
      "source": [
        "my={\"mykey\":12345}\n",
        "t=12345 in my.values()\n",
        "print(t)\n",
        "l=['a',5,6,'n']\n",
        "m='b' in l\n",
        "print(m)"
      ],
      "execution_count": 10,
      "outputs": [
        {
          "output_type": "stream",
          "text": [
            "True\n",
            "False\n"
          ],
          "name": "stdout"
        }
      ]
    }
  ]
}