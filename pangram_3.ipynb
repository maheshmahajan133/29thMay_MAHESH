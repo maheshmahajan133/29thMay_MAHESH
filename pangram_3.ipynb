{
  "nbformat": 4,
  "nbformat_minor": 0,
  "metadata": {
    "colab": {
      "name": "pangram 3.ipynb",
      "provenance": [],
      "authorship_tag": "ABX9TyMgN3lt5QRRPCX7p7ofijL7",
      "include_colab_link": true
    },
    "kernelspec": {
      "name": "python3",
      "display_name": "Python 3"
    },
    "language_info": {
      "name": "python"
    }
  },
  "cells": [
    {
      "cell_type": "markdown",
      "metadata": {
        "id": "view-in-github",
        "colab_type": "text"
      },
      "source": [
        "<a href=\"https://colab.research.google.com/github/maheshmahajan133/29thMay_MAHESH/blob/maheshbranch1/pangram_3.ipynb\" target=\"_parent\"><img src=\"https://colab.research.google.com/assets/colab-badge.svg\" alt=\"Open In Colab\"/></a>"
      ]
    },
    {
      "cell_type": "code",
      "metadata": {
        "colab": {
          "base_uri": "https://localhost:8080/"
        },
        "id": "MuGFQae4WHK_",
        "outputId": "35fd682b-b430-4d3c-d1df-8df73f1515f4"
      },
      "source": [
        "import string\n",
        "def myfunc(s):\n",
        "  s=s.split()\n",
        "  s=('').join(s)\n",
        "  s=s.lower()\n",
        "  s=set(s)\n",
        "  b=string.ascii_lowercase\n",
        "  b=set(b)\n",
        "  return s==b\n",
        "myfunc('the brown quick fox jumps over the lazy dog')\n",
        "myfunc('jcvhj asbchj jhadc hsdbhc jhadcj ')\n",
        "\n"
      ],
      "execution_count": 25,
      "outputs": [
        {
          "output_type": "execute_result",
          "data": {
            "text/plain": [
              "True"
            ]
          },
          "metadata": {
            "tags": []
          },
          "execution_count": 25
        }
      ]
    }
  ]
}