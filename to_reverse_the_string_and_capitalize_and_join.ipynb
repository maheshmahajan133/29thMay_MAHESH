{
  "nbformat": 4,
  "nbformat_minor": 0,
  "metadata": {
    "colab": {
      "name": "to reverse the string and capitalize and join.ipynb",
      "provenance": [],
      "authorship_tag": "ABX9TyPjP9/hFw8liKKl94RdVFLB",
      "include_colab_link": true
    },
    "kernelspec": {
      "name": "python3",
      "display_name": "Python 3"
    },
    "language_info": {
      "name": "python"
    }
  },
  "cells": [
    {
      "cell_type": "markdown",
      "metadata": {
        "id": "view-in-github",
        "colab_type": "text"
      },
      "source": [
        "<a href=\"https://colab.research.google.com/github/maheshmahajan133/mahesh-mahajan-Branch1/blob/29maybranch/to_reverse_the_string_and_capitalize_and_join.ipynb\" target=\"_parent\"><img src=\"https://colab.research.google.com/assets/colab-badge.svg\" alt=\"Open In Colab\"/></a>"
      ]
    },
    {
      "cell_type": "code",
      "metadata": {
        "colab": {
          "base_uri": "https://localhost:8080/",
          "height": 69
        },
        "id": "v1GdY161w3ng",
        "outputId": "f5a5e930-3b34-43fd-a27d-cacd13bccbc9"
      },
      "source": [
        "m='mahesh mahajan is a student of iitg at guwahati for masters'\n",
        "n=m.upper().split()\n",
        "print(n)\n",
        "l=n[::-1]\n",
        "print(l)\n",
        "\" \".join(l)"
      ],
      "execution_count": 4,
      "outputs": [
        {
          "output_type": "stream",
          "text": [
            "['MAHESH', 'MAHAJAN', 'IS', 'A', 'STUDENT', 'OF', 'IITG', 'AT', 'GUWAHATI', 'FOR', 'MASTERS']\n",
            "['MASTERS', 'FOR', 'GUWAHATI', 'AT', 'IITG', 'OF', 'STUDENT', 'A', 'IS', 'MAHAJAN', 'MAHESH']\n"
          ],
          "name": "stdout"
        },
        {
          "output_type": "execute_result",
          "data": {
            "application/vnd.google.colaboratory.intrinsic+json": {
              "type": "string"
            },
            "text/plain": [
              "'MASTERS FOR GUWAHATI AT IITG OF STUDENT A IS MAHAJAN MAHESH'"
            ]
          },
          "metadata": {
            "tags": []
          },
          "execution_count": 4
        }
      ]
    }
  ]
}