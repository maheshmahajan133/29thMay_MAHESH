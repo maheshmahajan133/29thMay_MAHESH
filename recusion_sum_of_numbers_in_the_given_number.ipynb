{
  "nbformat": 4,
  "nbformat_minor": 0,
  "metadata": {
    "colab": {
      "name": "recusion sum of numbers in the given number.ipynb",
      "provenance": [],
      "collapsed_sections": [],
      "authorship_tag": "ABX9TyP0fNG/ptQo2SbJm4N92iIY",
      "include_colab_link": true
    },
    "kernelspec": {
      "name": "python3",
      "display_name": "Python 3"
    },
    "language_info": {
      "name": "python"
    }
  },
  "cells": [
    {
      "cell_type": "markdown",
      "metadata": {
        "id": "view-in-github",
        "colab_type": "text"
      },
      "source": [
        "<a href=\"https://colab.research.google.com/github/maheshmahajan133/mahesh-mahajan-Branch1/blob/29maybranch/recusion_sum_of_numbers_in_the_given_number.ipynb\" target=\"_parent\"><img src=\"https://colab.research.google.com/assets/colab-badge.svg\" alt=\"Open In Colab\"/></a>"
      ]
    },
    {
      "cell_type": "code",
      "execution_count": 6,
      "metadata": {
        "colab": {
          "base_uri": "https://localhost:8080/"
        },
        "id": "TldZIfgtMPt2",
        "outputId": "6607f329-7c1c-4a96-b2ef-91e3dc931c00"
      },
      "outputs": [
        {
          "output_type": "execute_result",
          "data": {
            "text/plain": [
              "29"
            ]
          },
          "metadata": {},
          "execution_count": 6
        }
      ],
      "source": [
        " def sum_func(n):\n",
        "   if len(str(n))==1:\n",
        "     return n\n",
        "   else:\n",
        "     return n%10+sum_func(int(n/10))\n",
        "sum_func(1425863)"
      ]
    },
    {
      "cell_type": "code",
      "source": [
        "def sum_1(n):\n",
        "  n=str(n)\n",
        "  m=n.split()\n",
        "  for net in m:\n",
        "    sum=sum+int(net)\n",
        "  return sum\n",
        "sum_func(1425863)"
      ],
      "metadata": {
        "colab": {
          "base_uri": "https://localhost:8080/"
        },
        "id": "_xMyCr_pNETR",
        "outputId": "38ee16e9-9687-4f6b-e102-7d3385caa0de"
      },
      "execution_count": 9,
      "outputs": [
        {
          "output_type": "execute_result",
          "data": {
            "text/plain": [
              "29"
            ]
          },
          "metadata": {},
          "execution_count": 9
        }
      ]
    }
  ]
}