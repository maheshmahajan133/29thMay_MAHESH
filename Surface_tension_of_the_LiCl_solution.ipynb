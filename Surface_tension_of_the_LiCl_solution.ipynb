{
  "nbformat": 4,
  "nbformat_minor": 0,
  "metadata": {
    "colab": {
      "name": "Surface tension of the LiCl solution.ipynb",
      "provenance": [],
      "collapsed_sections": [],
      "authorship_tag": "ABX9TyMJDEh+BaKWGZvNtmLd+RWP",
      "include_colab_link": true
    },
    "kernelspec": {
      "name": "python3",
      "display_name": "Python 3"
    },
    "language_info": {
      "name": "python"
    }
  },
  "cells": [
    {
      "cell_type": "markdown",
      "metadata": {
        "id": "view-in-github",
        "colab_type": "text"
      },
      "source": [
        "<a href=\"https://colab.research.google.com/github/maheshmahajan133/mahesh-mahajan-Branch1/blob/31stmay-branch/Surface_tension_of_the_LiCl_solution.ipynb\" target=\"_parent\"><img src=\"https://colab.research.google.com/assets/colab-badge.svg\" alt=\"Open In Colab\"/></a>"
      ]
    },
    {
      "cell_type": "code",
      "metadata": {
        "colab": {
          "base_uri": "https://localhost:8080/"
        },
        "id": "qzNKS9iKLMoD",
        "outputId": "1cfd5391-316d-4164-8435-73e4c0a0f780"
      },
      "source": [
        "import math\n",
        "surface_tension_0water=235.8  # mN/m\n",
        "zeta= -0.625\n",
        "mu= 1.256\n",
        "temp2=input(\"Enter the Temperature of solution(in number format):\")\n",
        "t=float(temp2)\n",
        "theta2=((t+273.15)/647.3)\n",
        "\n",
        "conc2=input(\" Enter the Concentration of the solution:\")\n",
        "x= float(conc2)\n",
        "surface_tension_water=surface_tension_0water*(1-zeta*(1-theta2))*((1-theta2)**mu)\n",
        "print('the value of the surface tension of water at that temperature is {}  mN/m'.format(surface_tension_water))\n",
        "b1=2.757115\n",
        "b2=-12.011299\n",
        "b3=14.751818\n",
        "b4=2.443204\n",
        "b5=-3.147739\n",
        "\n",
        "surface_tension_solution= surface_tension_water * (1+(b1*x)+(b2*theta2*x)+(b3*x*theta2**2)+(b4*x**2)+(b5*x**3))\n",
        "print('the value of the surface tension of solution at that temperature is {}  mN/m'.format(surface_tension_solution))\n",
        "print(surface_tension_solution/surface_tension_water)"
      ],
      "execution_count": 14,
      "outputs": [
        {
          "output_type": "stream",
          "text": [
            "Enter the Temperature of solution(in number format):25\n",
            " Enter the Concentration of the solution:0.4\n",
            "the value of the surface tension of water at that temperature is 145.2075380473398  mN/m\n",
            "the value of the surface tension of solution at that temperature is 193.3000347296894  mN/m\n",
            "1.3311983477515523\n"
          ],
          "name": "stdout"
        }
      ]
    }
  ]
}