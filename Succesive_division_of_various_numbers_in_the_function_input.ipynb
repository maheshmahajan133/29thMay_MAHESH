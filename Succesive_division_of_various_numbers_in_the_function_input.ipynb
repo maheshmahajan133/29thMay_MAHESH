{
  "nbformat": 4,
  "nbformat_minor": 0,
  "metadata": {
    "colab": {
      "name": "Succesive division of various numbers in the function input.ipynb",
      "provenance": [],
      "authorship_tag": "ABX9TyP3MGMhnLNgockRWHHDkYra",
      "include_colab_link": true
    },
    "kernelspec": {
      "name": "python3",
      "display_name": "Python 3"
    },
    "language_info": {
      "name": "python"
    }
  },
  "cells": [
    {
      "cell_type": "markdown",
      "metadata": {
        "id": "view-in-github",
        "colab_type": "text"
      },
      "source": [
        "<a href=\"https://colab.research.google.com/github/maheshmahajan133/mahesh-mahajan-Branch1/blob/31stmay-branch/Succesive_division_of_various_numbers_in_the_function_input.ipynb\" target=\"_parent\"><img src=\"https://colab.research.google.com/assets/colab-badge.svg\" alt=\"Open In Colab\"/></a>"
      ]
    },
    {
      "cell_type": "code",
      "metadata": {
        "colab": {
          "base_uri": "https://localhost:8080/"
        },
        "id": "ZH0JcLrrRLlK",
        "outputId": "17e37991-7711-4baa-f2b1-62e8d6fbb846"
      },
      "source": [
        "def div(*a):\n",
        "  div1=a[0]\n",
        "  for num in a[1:]:\n",
        "    div1=div1/num\n",
        "  return print('Succesive division of various numbers in the function input is: {}'.format(div1))\n",
        "div(10,30,-10,0.00126)"
      ],
      "execution_count": 5,
      "outputs": [
        {
          "output_type": "stream",
          "text": [
            "Succesive division of various numbers in the function input is: -26.455026455026452\n"
          ],
          "name": "stdout"
        }
      ]
    }
  ]
}