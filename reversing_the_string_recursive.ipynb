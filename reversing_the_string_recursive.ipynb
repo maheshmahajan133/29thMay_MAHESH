{
  "nbformat": 4,
  "nbformat_minor": 0,
  "metadata": {
    "colab": {
      "name": "reversing the string recursive.ipynb",
      "provenance": [],
      "authorship_tag": "ABX9TyOngiwfj9DIm8G5ygbNfD7D",
      "include_colab_link": true
    },
    "kernelspec": {
      "name": "python3",
      "display_name": "Python 3"
    },
    "language_info": {
      "name": "python"
    }
  },
  "cells": [
    {
      "cell_type": "markdown",
      "metadata": {
        "id": "view-in-github",
        "colab_type": "text"
      },
      "source": [
        "<a href=\"https://colab.research.google.com/github/maheshmahajan133/mahesh-mahajan-Branch1/blob/29maybranch/reversing_the_string_recursive.ipynb\" target=\"_parent\"><img src=\"https://colab.research.google.com/assets/colab-badge.svg\" alt=\"Open In Colab\"/></a>"
      ]
    },
    {
      "cell_type": "code",
      "execution_count": 1,
      "metadata": {
        "id": "_3EPYgC0N-9C"
      },
      "outputs": [],
      "source": [
        "def reverse(s):\n",
        "  if len(s)<=1:\n",
        "    return s\n",
        "  return reverse(s[1:])+s[0]\n"
      ]
    }
  ]
}