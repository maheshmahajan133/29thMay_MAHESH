{
  "nbformat": 4,
  "nbformat_minor": 0,
  "metadata": {
    "colab": {
      "name": "try and except statement 3.ipynb",
      "provenance": [],
      "collapsed_sections": [],
      "authorship_tag": "ABX9TyPiUWsPywfEWuMs0Ac6ugl6",
      "include_colab_link": true
    },
    "kernelspec": {
      "name": "python3",
      "display_name": "Python 3"
    },
    "language_info": {
      "name": "python"
    }
  },
  "cells": [
    {
      "cell_type": "markdown",
      "metadata": {
        "id": "view-in-github",
        "colab_type": "text"
      },
      "source": [
        "<a href=\"https://colab.research.google.com/github/maheshmahajan133/mahesh-mahajan-Branch1/blob/31stmay-branch/try_and_except_statement_3.ipynb\" target=\"_parent\"><img src=\"https://colab.research.google.com/assets/colab-badge.svg\" alt=\"Open In Colab\"/></a>"
      ]
    },
    {
      "cell_type": "code",
      "metadata": {
        "colab": {
          "base_uri": "https://localhost:8080/"
        },
        "id": "WxtxkuPSj-TE",
        "outputId": "75092ba0-cf9d-417a-c5a8-453cdfc7393f"
      },
      "source": [
        "#first try with veriety \n",
        "astr='bob'\n",
        "try :\n",
        "  print('hello')\n",
        "  print('there')\n",
        "  istr=int(astr)\n",
        "except:\n",
        "  istr=-1\n",
        "print('done',istr)\n",
        "#second try with veriety \n",
        "astr='bob'\n",
        "try :\n",
        "  print('hello')\n",
        "  istr=int(astr)\n",
        "  print('there')\n",
        "except:\n",
        "  istr=-1\n",
        "print('done',istr)\n",
        "#third try with veriety \n",
        "astr='bob'\n",
        "try :\n",
        "  print('hello')\n",
        "  istr=int(astr)\n",
        "\n",
        "except:\n",
        "  istr=-1\n",
        "  print('there')\n",
        "print('done',istr)\n",
        "#fourth try with veriety \n",
        "astr='Bob'\n",
        "try :\n",
        "  print('Hello')\n",
        "  istr=int(astr)\n",
        "\n",
        "except:\n",
        "  istr=-1\n",
        "print('There')\n",
        "print('Done',istr)\n"
      ],
      "execution_count": 14,
      "outputs": [
        {
          "output_type": "stream",
          "text": [
            "hello\n",
            "there\n",
            "done -1\n",
            "hello\n",
            "done -1\n",
            "hello\n",
            "there\n",
            "done -1\n",
            "Hello\n",
            "There\n",
            "Done -1\n"
          ],
          "name": "stdout"
        }
      ]
    }
  ]
}