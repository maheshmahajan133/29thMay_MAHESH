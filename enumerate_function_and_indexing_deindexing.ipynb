{
  "nbformat": 4,
  "nbformat_minor": 0,
  "metadata": {
    "colab": {
      "name": "enumerate function and indexing deindexing",
      "provenance": [],
      "authorship_tag": "ABX9TyPqIeq6Cz48kCAgzBGBKNWK",
      "include_colab_link": true
    },
    "kernelspec": {
      "name": "python3",
      "display_name": "Python 3"
    },
    "language_info": {
      "name": "python"
    }
  },
  "cells": [
    {
      "cell_type": "markdown",
      "metadata": {
        "id": "view-in-github",
        "colab_type": "text"
      },
      "source": [
        "<a href=\"https://colab.research.google.com/github/maheshmahajan133/mahesh-mahajan-Branch1/blob/31stmay-branch/enumerate_function_and_indexing_deindexing.ipynb\" target=\"_parent\"><img src=\"https://colab.research.google.com/assets/colab-badge.svg\" alt=\"Open In Colab\"/></a>"
      ]
    },
    {
      "cell_type": "code",
      "metadata": {
        "colab": {
          "base_uri": "https://localhost:8080/"
        },
        "id": "cIg-sNivWPCN",
        "outputId": "0c214869-92cf-470c-a3d6-acdcadbb0bcb"
      },
      "source": [
        "index_count=0\n",
        "word =\"abcder\"\n",
        "for index,let in enumerate(word):\n",
        "  print(index)\n",
        "  print(let.upper())\n",
        "\n",
        "for let in enumerate(word):\n",
        "  print(let)"
      ],
      "execution_count": 16,
      "outputs": [
        {
          "output_type": "stream",
          "text": [
            "0\n",
            "A\n",
            "1\n",
            "B\n",
            "2\n",
            "C\n",
            "3\n",
            "D\n",
            "4\n",
            "E\n",
            "5\n",
            "R\n",
            "(0, 'a')\n",
            "(1, 'b')\n",
            "(2, 'c')\n",
            "(3, 'd')\n",
            "(4, 'e')\n",
            "(5, 'r')\n"
          ],
          "name": "stdout"
        }
      ]
    }
  ]
}