{
  "nbformat": 4,
  "nbformat_minor": 0,
  "metadata": {
    "colab": {
      "name": "Fibonnaci sequence.ipynb",
      "provenance": [],
      "authorship_tag": "ABX9TyPNxX27EMLbxZENaJyuHJ2a",
      "include_colab_link": true
    },
    "kernelspec": {
      "name": "python3",
      "display_name": "Python 3"
    },
    "language_info": {
      "name": "python"
    }
  },
  "cells": [
    {
      "cell_type": "markdown",
      "metadata": {
        "id": "view-in-github",
        "colab_type": "text"
      },
      "source": [
        "<a href=\"https://colab.research.google.com/github/maheshmahajan133/mahesh-mahajan-Branch1/blob/29maybranch/Fibonnaci_sequence.ipynb\" target=\"_parent\"><img src=\"https://colab.research.google.com/assets/colab-badge.svg\" alt=\"Open In Colab\"/></a>"
      ]
    },
    {
      "cell_type": "code",
      "execution_count": 9,
      "metadata": {
        "colab": {
          "base_uri": "https://localhost:8080/"
        },
        "id": "rceW2UyBdBQC",
        "outputId": "bbd81c65-e417-4dfd-b279-342323a75547"
      },
      "outputs": [
        {
          "output_type": "execute_result",
          "data": {
            "text/plain": [
              "55"
            ]
          },
          "metadata": {},
          "execution_count": 9
        }
      ],
      "source": [
        "def fib_iter(n):\n",
        "  a=0\n",
        "  b=1\n",
        "  for i in range(n):\n",
        "    a,b=b,a+b\n",
        "  return a\n",
        "fib_iter(10) "
      ]
    },
    {
      "cell_type": "code",
      "source": [
        "def fib_rec(n):\n",
        "  if n==0 or n==1:\n",
        "    return n\n",
        "  else:\n",
        "    return fib_rec(n-1)+ fib_rec(n-2)\n",
        "fib_rec(10)    "
      ],
      "metadata": {
        "colab": {
          "base_uri": "https://localhost:8080/"
        },
        "id": "oMObjeWOgKXa",
        "outputId": "113b506b-69b7-45ae-d9b9-c7e2d6560665"
      },
      "execution_count": 11,
      "outputs": [
        {
          "output_type": "execute_result",
          "data": {
            "text/plain": [
              "55"
            ]
          },
          "metadata": {},
          "execution_count": 11
        }
      ]
    },
    {
      "cell_type": "code",
      "source": [
        "n=int(input(\" enter  \"))\n",
        "cache=[None]*(n+1)\n",
        "def fib_dyn(n):\n",
        "  if n==0 or n==1:\n",
        "    return n\n",
        "  if cache[n]!=None:\n",
        "    return cache[n]\n",
        "  cache[n]=fib_dyn(n-1)+fib_dyn(n-2)\n",
        "  return cache[n]\n",
        "fib_dyn(n)"
      ],
      "metadata": {
        "colab": {
          "base_uri": "https://localhost:8080/"
        },
        "id": "TJtellVOgKZp",
        "outputId": "4bb2f49d-6030-4105-8c80-b594450c7996"
      },
      "execution_count": 20,
      "outputs": [
        {
          "name": "stdout",
          "output_type": "stream",
          "text": [
            " enter  10\n"
          ]
        },
        {
          "output_type": "execute_result",
          "data": {
            "text/plain": [
              "55"
            ]
          },
          "metadata": {},
          "execution_count": 20
        }
      ]
    }
  ]
}