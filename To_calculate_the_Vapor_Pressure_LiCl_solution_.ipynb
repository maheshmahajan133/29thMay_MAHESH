{
  "nbformat": 4,
  "nbformat_minor": 0,
  "metadata": {
    "colab": {
      "name": "To calculate the Vapor Pressure LiCl solution .ipynb",
      "provenance": [],
      "authorship_tag": "ABX9TyMG2U5+Tq+Bp1FK1Ghf2A1l",
      "include_colab_link": true
    },
    "kernelspec": {
      "name": "python3",
      "display_name": "Python 3"
    },
    "language_info": {
      "name": "python"
    }
  },
  "cells": [
    {
      "cell_type": "markdown",
      "metadata": {
        "id": "view-in-github",
        "colab_type": "text"
      },
      "source": [
        "<a href=\"https://colab.research.google.com/github/maheshmahajan133/mahesh-mahajan-Branch1/blob/29maybranch/To_calculate_the_Vapor_Pressure_LiCl_solution_.ipynb\" target=\"_parent\"><img src=\"https://colab.research.google.com/assets/colab-badge.svg\" alt=\"Open In Colab\"/></a>"
      ]
    },
    {
      "cell_type": "code",
      "metadata": {
        "colab": {
          "base_uri": "https://localhost:8080/"
        },
        "id": "wVJhXOmRRHOB",
        "outputId": "8edf740c-7cd5-4b0b-8731-c7be1dc94475"
      },
      "source": [
        "import numpy as np \n",
        "t=input(\"Enter the temperature of  the water or solution in degree celcius: \")\n",
        "t=float(t)\n",
        "T=273.15+t\n",
        "z=T/647.096\n",
        "\n",
        "x=input(\"Enter the weight fraction of the solution:\")\n",
        "x=float(x)\n",
        "\n",
        "Z1=np.exp((1/z)*(-7.85951783*(1-z)+1.84408259*(1-z)**1.5-11.7866497*(1-z)**3+22.6807411*(1-z)**3.5-15.9618719*(1-z)**4+1.86122502*(1-z)**7.5))\n",
        "ps_water_temp=22064*Z1  #in Kpa water saturation pressure\n",
        "print(\"Sat pres of water is: {} Kpa\" .format(ps_water_temp))\n",
        "\n",
        "z0=0.28\n",
        "z1=4.30\n",
        "z2=0.60\n",
        "z3=0.21\n",
        "z4=5.10\n",
        "z5=0.49\n",
        "z6=0.362\n",
        "z7=-4.75\n",
        "z8=-0.40\n",
        "z9=0.03\n",
        "\n",
        "M=2-(1+(x/z0)**z1)**z2\n",
        "N=(1+(x/z3)**z4)**z5-1\n",
        "z10=M+N*z\n",
        "\n",
        "z11=1-(1+(x/z6)**z7)**z8-z9*np.exp((x-0.1)**2/(-0.005))\n",
        "\n",
        "pressure_solution_conc_temp=z10*z11*ps_water_temp\n",
        "print(\"The vapor pressure of water vapor in solution is {} Kpa\" .format(pressure_solution_conc_temp))\n"
      ],
      "execution_count": 12,
      "outputs": [
        {
          "output_type": "stream",
          "text": [
            "Enter the temperature of  the water or solution in degree celcius: 28\n",
            "Enter the weight fraction of the solution:0.39\n",
            "Sat pres of water is: 3.787429778314061 Kpa\n",
            "The vapor pressure of water vapor in solution is 0.7910155452526676 Kpa\n"
          ],
          "name": "stdout"
        }
      ]
    }
  ]
}