{
  "nbformat": 4,
  "nbformat_minor": 0,
  "metadata": {
    "colab": {
      "name": "to find maximum number in a list.ipynb",
      "provenance": [],
      "authorship_tag": "ABX9TyP5EJSIlACP43V0zP4bQjOR",
      "include_colab_link": true
    },
    "kernelspec": {
      "name": "python3",
      "display_name": "Python 3"
    },
    "language_info": {
      "name": "python"
    }
  },
  "cells": [
    {
      "cell_type": "markdown",
      "metadata": {
        "id": "view-in-github",
        "colab_type": "text"
      },
      "source": [
        "<a href=\"https://colab.research.google.com/github/maheshmahajan133/mahesh-mahajan-Branch1/blob/31stmay-branch/to_find_maximum_number_in_a_list.ipynb\" target=\"_parent\"><img src=\"https://colab.research.google.com/assets/colab-badge.svg\" alt=\"Open In Colab\"/></a>"
      ]
    },
    {
      "cell_type": "code",
      "metadata": {
        "colab": {
          "base_uri": "https://localhost:8080/"
        },
        "id": "SObnRrKDDX40",
        "outputId": "668ebc5c-6876-4170-d8a4-8e93396bada3"
      },
      "source": [
        "def maxi(*a):\n",
        "  maxim=0\n",
        "  for num in a:\n",
        "    if maxim<num:\n",
        "        maxim=num\n",
        "    else :\n",
        "      pass\n",
        "  return maxim\n",
        "maxi(2,1,3,4,5,9,10,11,-1,0.001)\n",
        "\n"
      ],
      "execution_count": 11,
      "outputs": [
        {
          "output_type": "execute_result",
          "data": {
            "text/plain": [
              "11"
            ]
          },
          "metadata": {
            "tags": []
          },
          "execution_count": 11
        }
      ]
    }
  ]
}