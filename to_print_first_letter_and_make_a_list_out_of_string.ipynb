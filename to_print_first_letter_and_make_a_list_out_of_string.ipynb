{
  "nbformat": 4,
  "nbformat_minor": 0,
  "metadata": {
    "colab": {
      "name": "to print first letter and make a list out of string.ipynb",
      "provenance": [],
      "authorship_tag": "ABX9TyMZC1miehMdvHRXQnsRSw9l",
      "include_colab_link": true
    },
    "kernelspec": {
      "name": "python3",
      "display_name": "Python 3"
    },
    "language_info": {
      "name": "python"
    }
  },
  "cells": [
    {
      "cell_type": "markdown",
      "metadata": {
        "id": "view-in-github",
        "colab_type": "text"
      },
      "source": [
        "<a href=\"https://colab.research.google.com/github/maheshmahajan133/mahesh-mahajan-Branch1/blob/29maybranch/to_print_first_letter_and_make_a_list_out_of_string.ipynb\" target=\"_parent\"><img src=\"https://colab.research.google.com/assets/colab-badge.svg\" alt=\"Open In Colab\"/></a>"
      ]
    },
    {
      "cell_type": "code",
      "metadata": {
        "colab": {
          "base_uri": "https://localhost:8080/"
        },
        "id": "WTQnyX2xJclt",
        "outputId": "dbb5c001-711d-4849-cfe9-12a624e99247"
      },
      "source": [
        "M='im mahesh mahajan student of IITG and GCOEJ'\n",
        "m=M.split()\n",
        "print(m)\n",
        "n=[]\n",
        "for let in m:\n",
        "  n.append(let[0])\n",
        "print(n)\n"
      ],
      "execution_count": 1,
      "outputs": [
        {
          "output_type": "stream",
          "text": [
            "['im', 'mahesh', 'mahajan', 'student', 'of', 'IITG', 'and', 'GCOEJ']\n",
            "['i', 'm', 'm', 's', 'o', 'I', 'a', 'G']\n"
          ],
          "name": "stdout"
        }
      ]
    }
  ]
}