{
  "nbformat": 4,
  "nbformat_minor": 0,
  "metadata": {
    "colab": {
      "name": "viscocity variation with temp and concentration of LiCl.ipynb",
      "provenance": [],
      "authorship_tag": "ABX9TyMNoKy/+3JRvbX67OcwOYUb",
      "include_colab_link": true
    },
    "kernelspec": {
      "name": "python3",
      "display_name": "Python 3"
    },
    "language_info": {
      "name": "python"
    }
  },
  "cells": [
    {
      "cell_type": "markdown",
      "metadata": {
        "id": "view-in-github",
        "colab_type": "text"
      },
      "source": [
        "<a href=\"https://colab.research.google.com/github/maheshmahajan133/mahesh-mahajan-Branch1/blob/31stmay-branch/viscocity_variation_with_temp_and_concentration_of_LiCl.ipynb\" target=\"_parent\"><img src=\"https://colab.research.google.com/assets/colab-badge.svg\" alt=\"Open In Colab\"/></a>"
      ]
    },
    {
      "cell_type": "code",
      "metadata": {
        "colab": {
          "base_uri": "https://localhost:8080/"
        },
        "id": "3KFEdLL6vXAe",
        "outputId": "f13fe1f8-ed6a-4c50-9dc3-95529c6b329b"
      },
      "source": [
        "#dynamic density of licl\n",
        "\n",
        "import math\n",
        "temp_1=input('temperature of the solution, in number:')\n",
        "concen_1=input('Enter the solution mass fraction value:')\n",
        "t=float(temp_1)+273.15\n",
        "x=float(concen_1)\n",
        "c1=1.0261862\n",
        "c2=12481.702\n",
        "c3=-19510.923\n",
        "c4=7065.286\n",
        "c5=-395.561\n",
        "c6=143922.996\n",
        "visco_water_0celci=0.001793 # Pa.second\n",
        "thetha_visco=(t/228)-1\n",
        "print(thetha_visco)\n",
        "\n",
        "\n",
        "visco_water_temp =visco_water_0celci * (c1+c2*thetha_visco**0.02+c3*thetha_visco**0.04+c4*thetha_visco**0.08+c5*thetha_visco**2.85+c6*thetha_visco**8)\n",
        "print(visco_water_temp)\n",
        "\n",
        "\n",
        "d1=0.090481\n",
        "d2=1.390262\n",
        "d3=0.675875\n",
        "d4=-0.583517\n",
        "e=(x/(1-x)**(1/0.6))\n",
        "\n",
        "print(e)\n",
        "\n",
        "visco_solu= visco_water_temp * (math.exp((d1*e**3.6+d2*e+d3*(e/thetha_visco)+d4*e**2)))\n",
        "\n",
        "print ('The value of the solution viscosity is {} in Pa.s'.format(visco_solu))\n",
        "\n",
        "\n"
      ],
      "execution_count": 3,
      "outputs": [
        {
          "output_type": "stream",
          "text": [
            "temperature of the solution, in number:25\n",
            "Enter the solution mass fraction value:.2404\n",
            "0.30767543859649105\n",
            "0.012313982440750082\n",
            "0.38015397552556096\n",
            "The value of the solution viscosity is 0.044380174706681916 in Pa.s\n"
          ],
          "name": "stdout"
        }
      ]
    }
  ]
}