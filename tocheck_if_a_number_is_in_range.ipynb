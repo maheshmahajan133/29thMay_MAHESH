{
  "nbformat": 4,
  "nbformat_minor": 0,
  "metadata": {
    "colab": {
      "name": "tocheck if a number is in range.ipynb",
      "provenance": [],
      "collapsed_sections": [],
      "authorship_tag": "ABX9TyNFeGqaZGLxJq2S2oexEBMi",
      "include_colab_link": true
    },
    "kernelspec": {
      "name": "python3",
      "display_name": "Python 3"
    },
    "language_info": {
      "name": "python"
    }
  },
  "cells": [
    {
      "cell_type": "markdown",
      "metadata": {
        "id": "view-in-github",
        "colab_type": "text"
      },
      "source": [
        "<a href=\"https://colab.research.google.com/github/maheshmahajan133/29thMay_MAHESH/blob/maheshbranch1/tocheck_if_a_number_is_in_range.ipynb\" target=\"_parent\"><img src=\"https://colab.research.google.com/assets/colab-badge.svg\" alt=\"Open In Colab\"/></a>"
      ]
    },
    {
      "cell_type": "code",
      "metadata": {
        "colab": {
          "base_uri": "https://localhost:8080/"
        },
        "id": "EPf_tVOB50XW",
        "outputId": "3bd16859-557e-4834-ff62-c6c59b9f9177"
      },
      "source": [
        "def rangefunc(a,b,c):\n",
        "  if a>=b and a<=c:\n",
        "    print(\"The given number {} is in the range of {} , {} \".format(a,b,c))\n",
        "  else:\n",
        "    print(\"The given number {} is NOT in the range of {} , {} \".format(a,b,c))\n",
        "rangefunc(0.1,0.2,1)\n",
        "rangefunc(-0.1,-1,2)\n",
        "\n"
      ],
      "execution_count": null,
      "outputs": [
        {
          "output_type": "stream",
          "text": [
            "The given number 0.1 is NOT in the range of 0.2 , 1 \n",
            "The given number -0.1 is in the range of -1 , 2 \n"
          ],
          "name": "stdout"
        }
      ]
    },
    {
      "cell_type": "code",
      "metadata": {
        "id": "4Wo5DFbjwLq5"
      },
      "source": [
        ""
      ],
      "execution_count": null,
      "outputs": []
    }
  ]
}