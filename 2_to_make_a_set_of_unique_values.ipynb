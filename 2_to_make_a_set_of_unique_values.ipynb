{
  "nbformat": 4,
  "nbformat_minor": 0,
  "metadata": {
    "colab": {
      "name": "2 to make a set of unique values.ipynb",
      "provenance": [],
      "authorship_tag": "ABX9TyNpIxoAsVtke1guoRTlrgpe",
      "include_colab_link": true
    },
    "kernelspec": {
      "name": "python3",
      "display_name": "Python 3"
    },
    "language_info": {
      "name": "python"
    }
  },
  "cells": [
    {
      "cell_type": "markdown",
      "metadata": {
        "id": "view-in-github",
        "colab_type": "text"
      },
      "source": [
        "<a href=\"https://colab.research.google.com/github/maheshmahajan133/29thMay_MAHESH/blob/maheshbranch1/2_to_make_a_set_of_unique_values.ipynb\" target=\"_parent\"><img src=\"https://colab.research.google.com/assets/colab-badge.svg\" alt=\"Open In Colab\"/></a>"
      ]
    },
    {
      "cell_type": "code",
      "metadata": {
        "colab": {
          "base_uri": "https://localhost:8080/"
        },
        "id": "MzGUuZIrHQS2",
        "outputId": "8bacacba-bdf8-4dc2-db01-8b47b059b8e4"
      },
      "source": [
        "def list1(lst):\n",
        "  seenlist=[]\n",
        "  for num in lst:\n",
        "      if num not in seenlist:\n",
        "          seenlist.append(num)\n",
        "  return seenlist\n",
        "list1([1,1,2,2,33])"
      ],
      "execution_count": 2,
      "outputs": [
        {
          "output_type": "execute_result",
          "data": {
            "text/plain": [
              "[1, 2, 33]"
            ]
          },
          "metadata": {
            "tags": []
          },
          "execution_count": 2
        }
      ]
    }
  ]
}