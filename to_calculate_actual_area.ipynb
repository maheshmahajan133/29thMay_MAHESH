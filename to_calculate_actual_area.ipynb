{
  "nbformat": 4,
  "nbformat_minor": 0,
  "metadata": {
    "colab": {
      "name": "to calculate actual area.ipynb",
      "provenance": [],
      "collapsed_sections": [],
      "authorship_tag": "ABX9TyMgT9wZy4jlhen7pZk8sqRm",
      "include_colab_link": true
    },
    "kernelspec": {
      "name": "python3",
      "display_name": "Python 3"
    },
    "language_info": {
      "name": "python"
    }
  },
  "cells": [
    {
      "cell_type": "markdown",
      "metadata": {
        "id": "view-in-github",
        "colab_type": "text"
      },
      "source": [
        "<a href=\"https://colab.research.google.com/github/maheshmahajan133/mahesh-mahajan-Branch1/blob/29maybranch/to_calculate_actual_area.ipynb\" target=\"_parent\"><img src=\"https://colab.research.google.com/assets/colab-badge.svg\" alt=\"Open In Colab\"/></a>"
      ]
    },
    {
      "cell_type": "code",
      "metadata": {
        "colab": {
          "base_uri": "https://localhost:8080/"
        },
        "id": "4DRX2BipMNTK",
        "outputId": "38f6e9b0-10e7-4005-d29a-db538ad53fad"
      },
      "source": [
        "import math\n",
        "total_area =input(\"Enter the packing density of the dehumidifier or regenerator in m2/m3:\")\n",
        "at=float(total_area)\n",
        "#actual area = aw\n",
        "#Input parametrs\n",
        "\n",
        "critical_surface_tension_solution=input(\"Enter the Critical surface tension of solution :\")       #in mN/m\n",
        "gamma_c=float(critical_surface_tension_solution)\n",
        "\n",
        "surface_tension_solution=input(\"Enter the surface tension of solution :\") #in mN/m\n",
        "gamma_l=float(surface_tension_solution)\n",
        "\n",
        "\n",
        "viscosity_of_solution=input(\"Enter the dynamic viscosity of the solution:\")  #mPa.{value for value in variable}\n",
        "visco_l=float(viscosity_of_solution)\n",
        "\n",
        "mass_flow_rate_desiccant =input(\"Enter the mass flow rate of the solution in Kg/M2.s :\")\n",
        "l=float(mass_flow_rate_desiccant)\n",
        "density_of_solution=input(\"enertr the density:\")\n",
        "density_of_solution1=float(density_of_solution)\n",
        "g=9.81 # M/s2    acceleration due to  Gravity\n",
        "\n",
        "rho_l=float(density_of_solution)\n",
        "m=math.exp(-1.45*((gamma_c/gamma_l)**0.75)*(l**2*at/g*rho_l**2)**(-0.05)*(l**2/(rho_l*gamma_l*gamma_l)**0.2))\n",
        "print(m)\n",
        "aw=at*(1-math.exp(-1.45*((gamma_c/gamma_l)**0.75)*(l**2*at/g*rho_l**2)**(-0.05)*(l**2/(rho_l*gamma_l*gamma_l)**0.2)))\n",
        "print(\"the actual effective area of absorption is :{} \" .format(aw) )\n",
        "\n"
      ],
      "execution_count": 18,
      "outputs": [
        {
          "output_type": "stream",
          "text": [
            "Enter the packing density of the dehumidifier or regenerator in m2/m3:286\n",
            "Enter the Critical surface tension of solution :25\n",
            "Enter the surface tension of solution :230\n",
            "Enter the dynamic viscosity of the solution:0.0015\n",
            "Enter the mass flow rate of the solution in Kg/M2.s :6.0124\n",
            "enertr the density:1200\n",
            "0.9095092746334514\n",
            "the actual effective area of absorption is :25.88034745483289 \n"
          ],
          "name": "stdout"
        }
      ]
    }
  ]
}