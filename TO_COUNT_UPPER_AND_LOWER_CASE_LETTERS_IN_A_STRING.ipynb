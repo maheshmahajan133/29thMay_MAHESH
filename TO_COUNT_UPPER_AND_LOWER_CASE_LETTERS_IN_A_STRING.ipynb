{
  "nbformat": 4,
  "nbformat_minor": 0,
  "metadata": {
    "colab": {
      "name": "TO COUNT UPPER AND LOWER CASE LETTERS IN A STRING.ipynb",
      "provenance": [],
      "authorship_tag": "ABX9TyPmeifagAkhGCJIL9enWMNB",
      "include_colab_link": true
    },
    "kernelspec": {
      "name": "python3",
      "display_name": "Python 3"
    },
    "language_info": {
      "name": "python"
    }
  },
  "cells": [
    {
      "cell_type": "markdown",
      "metadata": {
        "id": "view-in-github",
        "colab_type": "text"
      },
      "source": [
        "<a href=\"https://colab.research.google.com/github/maheshmahajan133/29thMay_MAHESH/blob/maheshbranch1/TO_COUNT_UPPER_AND_LOWER_CASE_LETTERS_IN_A_STRING.ipynb\" target=\"_parent\"><img src=\"https://colab.research.google.com/assets/colab-badge.svg\" alt=\"Open In Colab\"/></a>"
      ]
    },
    {
      "cell_type": "code",
      "metadata": {
        "colab": {
          "base_uri": "https://localhost:8080/"
        },
        "id": "BcebhDe89Jcq",
        "outputId": "f2199d1a-7ba7-4f73-c98d-b0f1c42d30c2"
      },
      "source": [
        "def list1(args):\n",
        "  uppercase=0\n",
        "  lowercase=0\n",
        "  for char in args:\n",
        "    if char.isupper():  #for uppercase letters\n",
        "      uppercase+=1\n",
        "    elif char.islower(): # for lowercase letters\n",
        "      lowercase+=1\n",
        "    else:   #for spaces and puncuation mark\n",
        "      pass\n",
        "  print(\"Uppercase letters are {} \".format(uppercase))\n",
        "  print(\"Lowercase letters are {} \".format(lowercase))\n",
        "list1('Mahesh Is a Good boy')"
      ],
      "execution_count": 15,
      "outputs": [
        {
          "output_type": "stream",
          "text": [
            "Uppercase letters are 3 \n",
            "Lowercase letters are 13 \n"
          ],
          "name": "stdout"
        }
      ]
    },
    {
      "cell_type": "code",
      "metadata": {
        "id": "Qu2XkTp4DPJZ"
      },
      "source": [
        ""
      ],
      "execution_count": null,
      "outputs": []
    }
  ]
}