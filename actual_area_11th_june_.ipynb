{
  "nbformat": 4,
  "nbformat_minor": 0,
  "metadata": {
    "colab": {
      "name": "actual area 11th june .ipynb",
      "provenance": [],
      "authorship_tag": "ABX9TyMkSoXwJINfOOXXjyJnJ6JS",
      "include_colab_link": true
    },
    "kernelspec": {
      "name": "python3",
      "display_name": "Python 3"
    },
    "language_info": {
      "name": "python"
    }
  },
  "cells": [
    {
      "cell_type": "markdown",
      "metadata": {
        "id": "view-in-github",
        "colab_type": "text"
      },
      "source": [
        "<a href=\"https://colab.research.google.com/github/maheshmahajan133/mahesh-mahajan-Branch1/blob/31stmay-branch/actual_area_11th_june_.ipynb\" target=\"_parent\"><img src=\"https://colab.research.google.com/assets/colab-badge.svg\" alt=\"Open In Colab\"/></a>"
      ]
    },
    {
      "cell_type": "code",
      "metadata": {
        "id": "drvSGl0k0uQw"
      },
      "source": [
        "to calculate the actual arae of wetting\n",
        "l=L\n",
        "total_area =input(\"Enter the packing density of the dehumidifier or regenerator in m2/m3:\")\n",
        "at=float(total_area)\n",
        "#actual area = aw\n",
        "#Input parametrs\n",
        "critical_surface_tension_solution=input(\"Enter the Critical surface tension of solution :\")       #in mN/m\n",
        "gamma_c=float(critical_surface_tension_solution) #in mN/m\n",
        "gamma_l=float(surface_tension_solution)\n",
        "visco_l=float(visco_solu) #mPa.{value for value in variable}\n",
        "g=9.81 # M/s2    acceleration due to  Gravity\n",
        "m=math.exp(-1.45*(gamma_c/gamma_l)**0.75*(l**2*at/g*rho_l**2)**(-0.05)*(l**2/(rho_l*gamma_l*gamma_l)**0.2))\n",
        "print(m)\n",
        "aw=at*(1-math.exp(-1.45*((gamma_c/gamma_l)**0.75)*(l**2*at/g*rho_l**2)**(-0.05)*(l**2/(rho_l*gamma_l*gamma_l)**0.2)))\n",
        "print(\"the actual effective area of absorption is :{} \" .format(aw) )"
      ],
      "execution_count": null,
      "outputs": []
    }
  ]
}