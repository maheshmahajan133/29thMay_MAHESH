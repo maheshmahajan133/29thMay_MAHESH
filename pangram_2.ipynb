{
  "nbformat": 4,
  "nbformat_minor": 0,
  "metadata": {
    "colab": {
      "name": "pangram 2.ipynb",
      "provenance": [],
      "authorship_tag": "ABX9TyProCQ1GQ+4z0ZvKZldar+s",
      "include_colab_link": true
    },
    "kernelspec": {
      "name": "python3",
      "display_name": "Python 3"
    },
    "language_info": {
      "name": "python"
    }
  },
  "cells": [
    {
      "cell_type": "markdown",
      "metadata": {
        "id": "view-in-github",
        "colab_type": "text"
      },
      "source": [
        "<a href=\"https://colab.research.google.com/github/maheshmahajan133/29thMay_MAHESH/blob/maheshbranch1/pangram_2.ipynb\" target=\"_parent\"><img src=\"https://colab.research.google.com/assets/colab-badge.svg\" alt=\"Open In Colab\"/></a>"
      ]
    },
    {
      "cell_type": "code",
      "metadata": {
        "colab": {
          "base_uri": "https://localhost:8080/"
        },
        "id": "MuGFQae4WHK_",
        "outputId": "3dd25aba-54ed-4730-ea03-64599654220c"
      },
      "source": [
        "\n",
        "def myfunc(s):\n",
        "  s=s.split()\n",
        "  s=('').join(s)\n",
        "  s=s.lower()\n",
        "  s=set(s)\n",
        "  b='abcdefghijklmnopqrstuvwxyz'\n",
        "  b=set(b)\n",
        "  return s==b\n",
        "myfunc('the brown quick fox jumps over the lazy dog')\n",
        "myfunc('jcvhj asbchj jhadc hsdbhc jhadcj ')\n"
      ],
      "execution_count": 22,
      "outputs": [
        {
          "output_type": "execute_result",
          "data": {
            "text/plain": [
              "False"
            ]
          },
          "metadata": {
            "tags": []
          },
          "execution_count": 22
        }
      ]
    }
  ]
}