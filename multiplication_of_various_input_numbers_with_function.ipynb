{
  "nbformat": 4,
  "nbformat_minor": 0,
  "metadata": {
    "colab": {
      "name": "multiplication of various input numbers with function.ipynb",
      "provenance": [],
      "collapsed_sections": [],
      "authorship_tag": "ABX9TyPLiC5d5lD6objNLYURc5l0",
      "include_colab_link": true
    },
    "kernelspec": {
      "name": "python3",
      "display_name": "Python 3"
    },
    "language_info": {
      "name": "python"
    }
  },
  "cells": [
    {
      "cell_type": "markdown",
      "metadata": {
        "id": "view-in-github",
        "colab_type": "text"
      },
      "source": [
        "<a href=\"https://colab.research.google.com/github/maheshmahajan133/mahesh-mahajan-Branch1/blob/31stmay-branch/multiplication_of_various_input_numbers_with_function.ipynb\" target=\"_parent\"><img src=\"https://colab.research.google.com/assets/colab-badge.svg\" alt=\"Open In Colab\"/></a>"
      ]
    },
    {
      "cell_type": "code",
      "metadata": {
        "colab": {
          "base_uri": "https://localhost:8080/"
        },
        "id": "IN20eRZrKWTS",
        "outputId": "00db1645-9d07-433f-c42f-eb5cf5b4bfe5"
      },
      "source": [
        "def mult(*a):\n",
        "  multi=1\n",
        "  for num in a:\n",
        "    multi=multi*num\n",
        "  return print('multiplication of various numbers in the function input is: {}'.format(multi))\n",
        "mult(1,2,2,-4,0.01)\n",
        "mult(1,2,2,-4,0)\n",
        "mult(1,2,2,4,10)"
      ],
      "execution_count": 5,
      "outputs": [
        {
          "output_type": "stream",
          "text": [
            "multiplication of various numbers in the function input is: -0.16\n",
            "multiplication of various numbers in the function input is: 0\n",
            "multiplication of various numbers in the function input is: 160\n"
          ],
          "name": "stdout"
        }
      ]
    }
  ]
}