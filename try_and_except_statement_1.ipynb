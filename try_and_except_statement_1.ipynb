{
  "nbformat": 4,
  "nbformat_minor": 0,
  "metadata": {
    "colab": {
      "name": "try and except statement 1.ipynb",
      "provenance": [],
      "authorship_tag": "ABX9TyPP1YTISu34efjfKNotzhvd",
      "include_colab_link": true
    },
    "kernelspec": {
      "name": "python3",
      "display_name": "Python 3"
    },
    "language_info": {
      "name": "python"
    }
  },
  "cells": [
    {
      "cell_type": "markdown",
      "metadata": {
        "id": "view-in-github",
        "colab_type": "text"
      },
      "source": [
        "<a href=\"https://colab.research.google.com/github/maheshmahajan133/29thMay_MAHESH/blob/maheshbranch1/try_and_except_statement_1.ipynb\" target=\"_parent\"><img src=\"https://colab.research.google.com/assets/colab-badge.svg\" alt=\"Open In Colab\"/></a>"
      ]
    },
    {
      "cell_type": "code",
      "metadata": {
        "colab": {
          "base_uri": "https://localhost:8080/"
        },
        "id": "WxtxkuPSj-TE",
        "outputId": "37d064bf-00cd-4969-80d3-f406efb43450"
      },
      "source": [
        "astr='bob'\n",
        "try :\n",
        "  print('helllo')\n",
        "  istr=int(astr)\n",
        "  print('there')\n",
        "except:\n",
        "  istr=-1\n",
        "print('done',istr)"
      ],
      "execution_count": 3,
      "outputs": [
        {
          "output_type": "stream",
          "text": [
            "helllo\n",
            "done -1\n"
          ],
          "name": "stdout"
        }
      ]
    }
  ]
}