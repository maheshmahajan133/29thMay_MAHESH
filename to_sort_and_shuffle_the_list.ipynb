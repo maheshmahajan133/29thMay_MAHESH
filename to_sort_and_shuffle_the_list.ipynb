{
  "nbformat": 4,
  "nbformat_minor": 0,
  "metadata": {
    "colab": {
      "name": "to sort and shuffle the list.ipynb",
      "provenance": [],
      "authorship_tag": "ABX9TyNmkJC3ZXy1GQAA8lRkTmJ5",
      "include_colab_link": true
    },
    "kernelspec": {
      "name": "python3",
      "display_name": "Python 3"
    },
    "language_info": {
      "name": "python"
    }
  },
  "cells": [
    {
      "cell_type": "markdown",
      "metadata": {
        "id": "view-in-github",
        "colab_type": "text"
      },
      "source": [
        "<a href=\"https://colab.research.google.com/github/maheshmahajan133/mahesh-mahajan-Branch1/blob/29maybranch/to_sort_and_shuffle_the_list.ipynb\" target=\"_parent\"><img src=\"https://colab.research.google.com/assets/colab-badge.svg\" alt=\"Open In Colab\"/></a>"
      ]
    },
    {
      "cell_type": "code",
      "metadata": {
        "colab": {
          "base_uri": "https://localhost:8080/"
        },
        "id": "JEeBavHj_Ljx",
        "outputId": "31c9a0ea-ce7e-4963-e008-0f127c68b507"
      },
      "source": [
        "my=[1,2,3,4,56,78,52]\n",
        "from random import shuffle\n",
        "shuffle(my)\n",
        "print(my)\n",
        "my=[1,2,3,4,56,78,52]\n",
        "my.sort()\n",
        "print(my)\n",
        "\n",
        "\n"
      ],
      "execution_count": 37,
      "outputs": [
        {
          "output_type": "stream",
          "text": [
            "[78, 3, 4, 52, 56, 1, 2]\n",
            "[1, 2, 3, 4, 52, 56, 78]\n"
          ],
          "name": "stdout"
        }
      ]
    }
  ]
}