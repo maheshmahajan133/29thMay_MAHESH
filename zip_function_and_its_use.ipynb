{
  "nbformat": 4,
  "nbformat_minor": 0,
  "metadata": {
    "colab": {
      "name": "zip function and its use.ipynb",
      "provenance": [],
      "authorship_tag": "ABX9TyNMV3sR5NxqIz6dTNaslJua",
      "include_colab_link": true
    },
    "kernelspec": {
      "name": "python3",
      "display_name": "Python 3"
    },
    "language_info": {
      "name": "python"
    }
  },
  "cells": [
    {
      "cell_type": "markdown",
      "metadata": {
        "id": "view-in-github",
        "colab_type": "text"
      },
      "source": [
        "<a href=\"https://colab.research.google.com/github/maheshmahajan133/mahesh-mahajan-Branch1/blob/31stmay-branch/zip_function_and_its_use.ipynb\" target=\"_parent\"><img src=\"https://colab.research.google.com/assets/colab-badge.svg\" alt=\"Open In Colab\"/></a>"
      ]
    },
    {
      "cell_type": "code",
      "metadata": {
        "colab": {
          "base_uri": "https://localhost:8080/"
        },
        "id": "f0ceVlrvdtSf",
        "outputId": "8328f072-e142-4c14-b14b-c2c42fe1e2c3"
      },
      "source": [
        "my1=[1,2,3,4,5]\n",
        "my2=['r','f','d','r','a','f','e','t','s','a']\n",
        "m=zip(my1,my2)\n",
        "m\n",
        "print(m)\n",
        "for zip1 in m:\n",
        "  print(zip1)\n",
        "\n",
        "list(zip(my1,my2))"
      ],
      "execution_count": 6,
      "outputs": [
        {
          "output_type": "stream",
          "text": [
            "<zip object at 0x7f4a330ab2d0>\n",
            "(1, 'r')\n",
            "(2, 'f')\n",
            "(3, 'd')\n",
            "(4, 'r')\n",
            "(5, 'a')\n"
          ],
          "name": "stdout"
        },
        {
          "output_type": "execute_result",
          "data": {
            "text/plain": [
              "[(1, 'r'), (2, 'f'), (3, 'd'), (4, 'r'), (5, 'a')]"
            ]
          },
          "metadata": {
            "tags": []
          },
          "execution_count": 6
        }
      ]
    }
  ]
}