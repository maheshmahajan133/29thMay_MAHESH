{
  "nbformat": 4,
  "nbformat_minor": 0,
  "metadata": {
    "colab": {
      "name": "equilibrium moisture content.ipynb",
      "provenance": [],
      "collapsed_sections": [],
      "authorship_tag": "ABX9TyOUCNrm00INjjBhbAaK8t/s",
      "include_colab_link": true
    },
    "kernelspec": {
      "name": "python3",
      "display_name": "Python 3"
    },
    "language_info": {
      "name": "python"
    }
  },
  "cells": [
    {
      "cell_type": "markdown",
      "metadata": {
        "id": "view-in-github",
        "colab_type": "text"
      },
      "source": [
        "<a href=\"https://colab.research.google.com/github/maheshmahajan133/mahesh-mahajan-Branch1/blob/29maybranch/equilibrium_moisture_content.ipynb\" target=\"_parent\"><img src=\"https://colab.research.google.com/assets/colab-badge.svg\" alt=\"Open In Colab\"/></a>"
      ]
    },
    {
      "cell_type": "code",
      "metadata": {
        "colab": {
          "base_uri": "https://localhost:8080/"
        },
        "id": "NchLeg_tiEyU",
        "outputId": "d2cb2e1a-ab6d-4274-f1bb-3e226656ce35"
      },
      "source": [
        "h=fractional_relative_humidity=float(input(\"Enter the fractional relative humidity(0,1):\"))\n",
        "t_des=float(input(\"Enter the Desiccant Inlet temp in degree celci:\"))\n",
        "t_des=t_des*1.8+32.0\n",
        "W=330+0.452*t_des+0.00415*t_des**2\n",
        "K=0.791+4.63*10**(-4)*t_des-8.44*10**(-7)*t_des**2\n",
        "K1=6.34+7.75*10**(-4)*t_des-9.35*10**(-5)*t_des**2\n",
        "K2=1.09+2.84*10**(-2)*t_des-9.04*10**(-5)*t_des**2\n",
        "M_equi=(1800/W)*(K*h/(1-K*h))+((K1*K*h+2*K1*K2*h**2*K**2)/(1+K1*K*h+K*K2*K**2*h**2))\n",
        "print(\"Equilibrium Moisture Content in percentage is {}%\".format(M_equi))"
      ],
      "execution_count": 19,
      "outputs": [
        {
          "output_type": "stream",
          "name": "stdout",
          "text": [
            "Enter the fractional relative humidity(0,1):0.67\n",
            "Enter the Desiccant Inlet temp in degree celci:30\n",
            "Equilibrium Moisture Content in percentage is 8.256503550310414%\n"
          ]
        }
      ]
    }
  ]
}