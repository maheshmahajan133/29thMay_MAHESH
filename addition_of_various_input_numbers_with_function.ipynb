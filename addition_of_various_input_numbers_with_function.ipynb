{
  "nbformat": 4,
  "nbformat_minor": 0,
  "metadata": {
    "colab": {
      "name": "addition of various input numbers with function.ipynb",
      "provenance": [],
      "collapsed_sections": [],
      "authorship_tag": "ABX9TyMTvnnXRV5FH2I/u+nG14H4",
      "include_colab_link": true
    },
    "kernelspec": {
      "name": "python3",
      "display_name": "Python 3"
    },
    "language_info": {
      "name": "python"
    }
  },
  "cells": [
    {
      "cell_type": "markdown",
      "metadata": {
        "id": "view-in-github",
        "colab_type": "text"
      },
      "source": [
        "<a href=\"https://colab.research.google.com/github/maheshmahajan133/mahesh-mahajan-Branch1/blob/29maybranch/addition_of_various_input_numbers_with_function.ipynb\" target=\"_parent\"><img src=\"https://colab.research.google.com/assets/colab-badge.svg\" alt=\"Open In Colab\"/></a>"
      ]
    },
    {
      "cell_type": "code",
      "metadata": {
        "colab": {
          "base_uri": "https://localhost:8080/"
        },
        "id": "IN20eRZrKWTS",
        "outputId": "dda68fff-647c-48dc-c497-50c28cbf5424"
      },
      "source": [
        "def addition1(*a):\n",
        "  addi=0\n",
        "  for num in a:\n",
        "    addi=addi+num\n",
        "  return print('Addition of various numbers in the function input is: {}'.format(addi))\n",
        "addition1(10,30,-10,0.00126)"
      ],
      "execution_count": 7,
      "outputs": [
        {
          "output_type": "stream",
          "text": [
            "Addition of various numbers in the function input is: 30.00126\n"
          ],
          "name": "stdout"
        }
      ]
    }
  ]
}