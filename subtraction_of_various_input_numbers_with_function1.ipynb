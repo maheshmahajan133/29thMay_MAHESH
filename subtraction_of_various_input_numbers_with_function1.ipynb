{
  "nbformat": 4,
  "nbformat_minor": 0,
  "metadata": {
    "colab": {
      "name": "subtraction of various input numbers with function1.ipynb",
      "provenance": [],
      "collapsed_sections": [],
      "authorship_tag": "ABX9TyO4rBYE2R5c+qS2nAO38GQb",
      "include_colab_link": true
    },
    "kernelspec": {
      "name": "python3",
      "display_name": "Python 3"
    },
    "language_info": {
      "name": "python"
    }
  },
  "cells": [
    {
      "cell_type": "markdown",
      "metadata": {
        "id": "view-in-github",
        "colab_type": "text"
      },
      "source": [
        "<a href=\"https://colab.research.google.com/github/maheshmahajan133/mahesh-mahajan-Branch1/blob/31stmay-branch/subtraction_of_various_input_numbers_with_function1.ipynb\" target=\"_parent\"><img src=\"https://colab.research.google.com/assets/colab-badge.svg\" alt=\"Open In Colab\"/></a>"
      ]
    },
    {
      "cell_type": "code",
      "metadata": {
        "colab": {
          "base_uri": "https://localhost:8080/"
        },
        "id": "IN20eRZrKWTS",
        "outputId": "feac8d37-bed8-4f09-9962-078966a431b3"
      },
      "source": [
        "def subs1(*a):\n",
        "  subs11=a[0]\n",
        "  for num in a[1:]:\n",
        "    subs11=subs11-num\n",
        "  return print('Subtraction of various numbers in the function input is: {}'.format(subs11))\n",
        "subs1(10,30,-10,0.00126)"
      ],
      "execution_count": 13,
      "outputs": [
        {
          "output_type": "stream",
          "text": [
            "Subtraction of various numbers in the function input is: -10.00126\n"
          ],
          "name": "stdout"
        }
      ]
    }
  ]
}