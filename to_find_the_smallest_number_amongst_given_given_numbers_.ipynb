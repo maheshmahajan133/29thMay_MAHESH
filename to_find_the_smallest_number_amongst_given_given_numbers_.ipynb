{
  "nbformat": 4,
  "nbformat_minor": 0,
  "metadata": {
    "colab": {
      "name": "to find the smallest number amongst given given numbers .ipynb",
      "provenance": [],
      "collapsed_sections": [],
      "authorship_tag": "ABX9TyMcLKJFtPYwwRaSXhECWWVI",
      "include_colab_link": true
    },
    "kernelspec": {
      "name": "python3",
      "display_name": "Python 3"
    },
    "language_info": {
      "name": "python"
    }
  },
  "cells": [
    {
      "cell_type": "markdown",
      "metadata": {
        "id": "view-in-github",
        "colab_type": "text"
      },
      "source": [
        "<a href=\"https://colab.research.google.com/github/maheshmahajan133/mahesh-mahajan-Branch1/blob/31stmay-branch/to_find_the_smallest_number_amongst_given_given_numbers_.ipynb\" target=\"_parent\"><img src=\"https://colab.research.google.com/assets/colab-badge.svg\" alt=\"Open In Colab\"/></a>"
      ]
    },
    {
      "cell_type": "code",
      "metadata": {
        "colab": {
          "base_uri": "https://localhost:8080/"
        },
        "id": "WpzDsDYwHGPB",
        "outputId": "bc13ce10-1cfa-4015-e659-f7bd8424ee5d"
      },
      "source": [
        "def mini(*a):\n",
        "  smallest=None\n",
        "  for num in a:\n",
        "    if smallest is None:\n",
        "      smallest=num\n",
        "    elif num<smallest :\n",
        "      smallest=num\n",
        "  print(\"The smallest number amongst given numbers is:{}\".format(smallest))\n",
        "mini(0.001,1,3,9,-1,-6)"
      ],
      "execution_count": 3,
      "outputs": [
        {
          "output_type": "stream",
          "text": [
            "The smallest number amongst given numbers is:-6\n"
          ],
          "name": "stdout"
        }
      ]
    }
  ]
}