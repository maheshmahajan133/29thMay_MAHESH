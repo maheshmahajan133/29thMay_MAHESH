{
  "nbformat": 4,
  "nbformat_minor": 0,
  "metadata": {
    "colab": {
      "name": "2 TO COUNT UPPER AND LOWER CASE LETTERS IN A STRING.ipynb",
      "provenance": [],
      "authorship_tag": "ABX9TyN7mcfiMMT44Elgi83cp0WT",
      "include_colab_link": true
    },
    "kernelspec": {
      "name": "python3",
      "display_name": "Python 3"
    },
    "language_info": {
      "name": "python"
    }
  },
  "cells": [
    {
      "cell_type": "markdown",
      "metadata": {
        "id": "view-in-github",
        "colab_type": "text"
      },
      "source": [
        "<a href=\"https://colab.research.google.com/github/maheshmahajan133/29thMay_MAHESH/blob/maheshbranch1/2_TO_COUNT_UPPER_AND_LOWER_CASE_LETTERS_IN_A_STRING.ipynb\" target=\"_parent\"><img src=\"https://colab.research.google.com/assets/colab-badge.svg\" alt=\"Open In Colab\"/></a>"
      ]
    },
    {
      "cell_type": "code",
      "metadata": {
        "colab": {
          "base_uri": "https://localhost:8080/"
        },
        "id": "BcebhDe89Jcq",
        "outputId": "b68ba465-dc58-4d6b-d237-b12bd4aebd69"
      },
      "source": [
        "def list1(args):\n",
        "  uppercase=0\n",
        "  lowercase=0\n",
        "  for char in args:\n",
        "    if char.isupper():  #for uppercase letters\n",
        "      uppercase+=1\n",
        "    elif char.islower(): # for lowercase letters\n",
        "      lowercase+=1\n",
        "    else:   #for spaces and puncuation mark\n",
        "      pass\n",
        "  return uppercase , lowercase\n",
        "  \n",
        "list1('Mahesh Is a Good boy')"
      ],
      "execution_count": 18,
      "outputs": [
        {
          "output_type": "execute_result",
          "data": {
            "text/plain": [
              "(3, 13)"
            ]
          },
          "metadata": {
            "tags": []
          },
          "execution_count": 18
        }
      ]
    },
    {
      "cell_type": "code",
      "metadata": {
        "id": "Qu2XkTp4DPJZ"
      },
      "source": [
        ""
      ],
      "execution_count": null,
      "outputs": []
    }
  ]
}