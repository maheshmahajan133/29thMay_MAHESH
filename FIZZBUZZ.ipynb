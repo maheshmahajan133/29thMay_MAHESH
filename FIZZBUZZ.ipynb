{
  "nbformat": 4,
  "nbformat_minor": 0,
  "metadata": {
    "colab": {
      "name": "FIZZBUZZ.ipynb",
      "provenance": [],
      "authorship_tag": "ABX9TyN3VIh7P1M7PukW36GX8O6x",
      "include_colab_link": true
    },
    "kernelspec": {
      "name": "python3",
      "display_name": "Python 3"
    },
    "language_info": {
      "name": "python"
    }
  },
  "cells": [
    {
      "cell_type": "markdown",
      "metadata": {
        "id": "view-in-github",
        "colab_type": "text"
      },
      "source": [
        "<a href=\"https://colab.research.google.com/github/maheshmahajan133/mahesh-mahajan-Branch1/blob/29maybranch/FIZZBUZZ.ipynb\" target=\"_parent\"><img src=\"https://colab.research.google.com/assets/colab-badge.svg\" alt=\"Open In Colab\"/></a>"
      ]
    },
    {
      "cell_type": "code",
      "metadata": {
        "colab": {
          "base_uri": "https://localhost:8080/"
        },
        "id": "BAet3LBuHjRC",
        "outputId": "8f85e979-8422-4c03-cb6a-34fc5461edab"
      },
      "source": [
        "for num in  range(1,101):\n",
        "  if num%3==0 and num%5==0:\n",
        "    print(\"FIZZBUZZ \",num)\n",
        "  elif num%3==0:\n",
        "    print(\"FIZZ\",num)\n",
        "  elif num%5==0:\n",
        "    print(\"BUZZ\",num)\n",
        "  else:\n",
        "    print(num)"
      ],
      "execution_count": 4,
      "outputs": [
        {
          "output_type": "stream",
          "text": [
            "1\n",
            "2\n",
            "FIZZ 3\n",
            "4\n",
            "BUZZ 5\n",
            "FIZZ 6\n",
            "7\n",
            "8\n",
            "FIZZ 9\n",
            "BUZZ 10\n",
            "11\n",
            "FIZZ 12\n",
            "13\n",
            "14\n",
            "FIZZBUZZ  15\n",
            "16\n",
            "17\n",
            "FIZZ 18\n",
            "19\n",
            "BUZZ 20\n",
            "FIZZ 21\n",
            "22\n",
            "23\n",
            "FIZZ 24\n",
            "BUZZ 25\n",
            "26\n",
            "FIZZ 27\n",
            "28\n",
            "29\n",
            "FIZZBUZZ  30\n",
            "31\n",
            "32\n",
            "FIZZ 33\n",
            "34\n",
            "BUZZ 35\n",
            "FIZZ 36\n",
            "37\n",
            "38\n",
            "FIZZ 39\n",
            "BUZZ 40\n",
            "41\n",
            "FIZZ 42\n",
            "43\n",
            "44\n",
            "FIZZBUZZ  45\n",
            "46\n",
            "47\n",
            "FIZZ 48\n",
            "49\n",
            "BUZZ 50\n",
            "FIZZ 51\n",
            "52\n",
            "53\n",
            "FIZZ 54\n",
            "BUZZ 55\n",
            "56\n",
            "FIZZ 57\n",
            "58\n",
            "59\n",
            "FIZZBUZZ  60\n",
            "61\n",
            "62\n",
            "FIZZ 63\n",
            "64\n",
            "BUZZ 65\n",
            "FIZZ 66\n",
            "67\n",
            "68\n",
            "FIZZ 69\n",
            "BUZZ 70\n",
            "71\n",
            "FIZZ 72\n",
            "73\n",
            "74\n",
            "FIZZBUZZ  75\n",
            "76\n",
            "77\n",
            "FIZZ 78\n",
            "79\n",
            "BUZZ 80\n",
            "FIZZ 81\n",
            "82\n",
            "83\n",
            "FIZZ 84\n",
            "BUZZ 85\n",
            "86\n",
            "FIZZ 87\n",
            "88\n",
            "89\n",
            "FIZZBUZZ  90\n",
            "91\n",
            "92\n",
            "FIZZ 93\n",
            "94\n",
            "BUZZ 95\n",
            "FIZZ 96\n",
            "97\n",
            "98\n",
            "FIZZ 99\n",
            "BUZZ 100\n"
          ],
          "name": "stdout"
        }
      ]
    }
  ]
}